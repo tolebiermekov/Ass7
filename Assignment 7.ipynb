{
 "cells": [
  {
   "cell_type": "code",
   "execution_count": 70,
   "id": "detailed-magic",
   "metadata": {},
   "outputs": [
    {
     "name": "stdout",
     "output_type": "stream",
     "text": [
      "Original file: 101000110000100010010111111111101101010101010010101111011011000111100000000\n",
      "Initial blocks:\n",
      "b0: 101000110000100\n",
      "b1: 010010111111111\n",
      "b2: 101101010101010\n",
      "b3: 010101111011011\n",
      "b4: 000111100000000\n"
     ]
    }
   ],
   "source": [
    "# task 1\n",
    "f = open('one_sequence1511.txt','r').read()\n",
    "print('Original file:',f)\n",
    "n = 15\n",
    "blocks = []\n",
    "\n",
    "for i in range(0, len(f), n):\n",
    "    blocks.append(int(f[i: i + n]))\n",
    "zero = '0'\n",
    "blocks[1] = zero + str(blocks[1])\n",
    "blocks[3] = zero + str(blocks[3])\n",
    "blocks[4] = zero * 3 + str(blocks[4]) \n",
    "\n",
    "print('Initial blocks:')\n",
    "for i,j in enumerate(blocks):\n",
    "    print('b' + str(i) + ':',j)"
   ]
  },
  {
   "cell_type": "code",
   "execution_count": 71,
   "id": "excess-valuation",
   "metadata": {},
   "outputs": [
    {
     "name": "stdout",
     "output_type": "stream",
     "text": [
      "Blocks with errors:\n",
      "b4: 000111100001000\n",
      "b3: 010101111010011\n"
     ]
    }
   ],
   "source": [
    "# task 2\n",
    "import random\n",
    "def genError(percent, blocks):\n",
    "    percentage = int(len(blocks) * (percent / 100))\n",
    "    blockFlip = random.sample(range(len(blocks)), percentage)\n",
    "    b1tFlip = random.randrange(15)\n",
    "\n",
    "    lis = []   \n",
    "    for i in blockFlip:\n",
    "        \n",
    "        di_map = map(int, str(blocks[i]))\n",
    "        di_list = list(di_map)\n",
    "        Flip = di_list[b1tFlip]\n",
    "        if (Flip == 0):\n",
    "            di_list[b1tFlip] = 1\n",
    "        else: \n",
    "            di_list[b1tFlip] = 0\n",
    "        \n",
    "        combine = ''.join(map(str, di_list))\n",
    "        lis.append(combine)\n",
    "\n",
    "    for i in range(len(blockFlip)):\n",
    "        blocks[blockFlip[i]] = lis[i]\n",
    "         \n",
    "    return lis\n",
    "\n",
    "\n",
    "ad = genError(50, blocks)\n",
    "\n",
    "print('Blocks with errors:')\n",
    "for i in ad:\n",
    "    print('b' + str(blocks.index(i)) + ':', i) \n",
    "\n"
   ]
  },
  {
   "cell_type": "code",
   "execution_count": 72,
   "id": "similar-curve",
   "metadata": {},
   "outputs": [
    {
     "name": "stdout",
     "output_type": "stream",
     "text": [
      "0 0 0 1 1 1 1 0 0 0 0 1 0 0 0:\n",
      "Error in position: 12\n",
      "Corrected bitstring: 0 0 0 1 1 1 1 0 0 0 0 0 0 0 0\n",
      "Decoded bitstring: 01110000000.\n"
     ]
    }
   ],
   "source": [
    "# task 3\n",
    "def HammingDecode(bitstring):\n",
    "    RedundantBits = 4\n",
    "    i = 0\n",
    "    lis = list(str(bitstring))\n",
    "    lis1 = ' '.join(map(str, lis))  \n",
    "    print(lis1 + ':')\n",
    "    BitError = 0\n",
    "    while i < RedundantBits:\n",
    "        d = 2 ** i\n",
    "        l = 1\n",
    "        sumOfSubList = 0\n",
    "        while l * d -1 <len(lis):\n",
    "            if l * d -1 == len(lis) - 1:\n",
    "                NijniyInd =l * d -1\n",
    "                t = lis[int(NijniyInd) : len(lis)]\n",
    "            elif (l + 1)* d - 1 >= len(lis):\n",
    "                    NijniyInd = l * d - 1\n",
    "                    t = lis[int(NijniyInd) : len(lis)]\n",
    "            elif (l + 1) * d - 1 < len(lis) - 1:\n",
    "                NijniyInd = (l * d) - 1\n",
    "                VerhniyInd = (l + 1) * d -1\n",
    "                t = lis[int(NijniyInd) : int(VerhniyInd)]\n",
    "            \n",
    "            sumOfSubList += sum(int(x) for x in t)\n",
    "\n",
    "            l = l + 2      \n",
    "        if sumOfSubList % 2 > 0:\n",
    "            BitError += d  \n",
    "        \n",
    "        i = i + 1\n",
    "\n",
    "    if BitError >= 1:\n",
    "        print(\"Error in position:\", int(BitError))\n",
    "        \n",
    "        if lis[int(BitError - 1)] == '0' or lis[int(BitError - 1)] == 0:\n",
    "            lis[int(BitError - 1)] = 1\n",
    "        else:\n",
    "            lis[int(BitError - 1)] = 0\n",
    "    else:\n",
    "        print(\"No error.\")\n",
    "    corrected = ' '.join(map(str, lis))\n",
    "    print('Corrected bitstring:', corrected)    \n",
    "    list1 = []\n",
    "    i = 0\n",
    "    l = 0\n",
    "    d = 0\n",
    "\n",
    "    while i < len(lis): \n",
    "        if i != ((2 ** d) - 1):\n",
    "            t = lis[int(i)]\n",
    "            list1.append(t)\n",
    "            l += 1\n",
    "        else:\n",
    "            d += 1\n",
    "        i += 1\n",
    "    result = ''.join(map(str, list1))    \n",
    "    return result \n",
    "\n",
    "print(f'Decoded bitstring: {HammingDecode(blocks[4])}.')"
   ]
  },
  {
   "cell_type": "code",
   "execution_count": 73,
   "id": "consecutive-savage",
   "metadata": {},
   "outputs": [
    {
     "name": "stdout",
     "output_type": "stream",
     "text": [
      "1 0 1 0 0 0 1 1 0 0 0 0 1 0 0:\n",
      "No error.\n",
      "Corrected bitstring: 1 0 1 0 0 0 1 1 0 0 0 0 1 0 0\n",
      "0 1 0 0 1 0 1 1 1 1 1 1 1 1 1:\n",
      "No error.\n",
      "Corrected bitstring: 0 1 0 0 1 0 1 1 1 1 1 1 1 1 1\n",
      "1 0 1 1 0 1 0 1 0 1 0 1 0 1 0:\n",
      "No error.\n",
      "Corrected bitstring: 1 0 1 1 0 1 0 1 0 1 0 1 0 1 0\n",
      "0 1 0 1 0 1 1 1 1 0 1 0 0 1 1:\n",
      "Error in position: 12\n",
      "Corrected bitstring: 0 1 0 1 0 1 1 1 1 0 1 1 0 1 1\n",
      "0 0 0 1 1 1 1 0 0 0 0 1 0 0 0:\n",
      "Error in position: 12\n",
      "Corrected bitstring: 0 0 0 1 1 1 1 0 0 0 0 0 0 0 0\n",
      "['10010000100', '01011111111', '10100101010', '00111011011', '01110000000']\n"
     ]
    }
   ],
   "source": [
    "# task 4\n",
    "decoded = []\n",
    "for i in blocks:\n",
    "    decoded.append(HammingDecode (str(i)))\n",
    "print(decoded)"
   ]
  },
  {
   "cell_type": "code",
   "execution_count": 74,
   "id": "secure-armor",
   "metadata": {},
   "outputs": [
    {
     "name": "stdout",
     "output_type": "stream",
     "text": [
      "Decoded sequence: 1001000010001011111111101001010100011101101101110000000\n",
      "Sequence from assignment 3: 1001000010001011111111101001010100011101101101110000000\n",
      "They match.\n"
     ]
    }
   ],
   "source": [
    "# task 5\n",
    "combine = ''.join(map(str, decoded))\n",
    "print('Decoded sequence:', combine)\n",
    "\n",
    "f3 = open(\"decoded.txt\", \"w\") \n",
    "f3.write(combine) \n",
    "f3.close()\n",
    "f4 = open(\"decoded.txt\",'r').read()\n",
    "\n",
    "f1 = open('new.txt','r').read()\n",
    "print('Sequence from assignment 3:',f1)\n",
    "\n",
    "\n",
    "if (f1 == f4):\n",
    "    print('They match.')\n",
    "else:\n",
    "    print('They does not match.')"
   ]
  }
 ],
 "metadata": {
  "kernelspec": {
   "display_name": "Python 3",
   "language": "python",
   "name": "python3"
  },
  "language_info": {
   "codemirror_mode": {
    "name": "ipython",
    "version": 3
   },
   "file_extension": ".py",
   "mimetype": "text/x-python",
   "name": "python",
   "nbconvert_exporter": "python",
   "pygments_lexer": "ipython3",
   "version": "3.7.9"
  }
 },
 "nbformat": 4,
 "nbformat_minor": 5
}
